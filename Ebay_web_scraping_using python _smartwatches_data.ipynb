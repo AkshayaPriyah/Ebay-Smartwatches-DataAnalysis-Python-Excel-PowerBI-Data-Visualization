{
 "cells": [
  {
   "cell_type": "code",
   "execution_count": 1,
   "id": "7cbb4cba",
   "metadata": {},
   "outputs": [
    {
     "name": "stdout",
     "output_type": "stream",
     "text": [
      "Data extraction and export completed.\n"
     ]
    }
   ],
   "source": [
    "from bs4 import BeautifulSoup\n",
    "import requests\n",
    "import csv\n",
    "\n",
    "# Function to extract information from a single page\n",
    "def extract_info(page_soup):\n",
    "    data = []\n",
    "    items = page_soup.find_all('div', class_='s-item__info')\n",
    "    \n",
    "    for item in items:\n",
    "        # Extract title\n",
    "        title_tag = item.find('h3', class_='s-item__title')\n",
    "        title = title_tag.get_text() if title_tag else 'No title'\n",
    "        \n",
    "        # Extract price\n",
    "        price_tag = item.find('span', class_='s-item__price')\n",
    "        price = price_tag.get_text() if price_tag else 'No price'\n",
    "        \n",
    "        # Extract shipping price\n",
    "        shipping_tag = item.find('span', class_='s-item__shipping s-item__logisticsCost')\n",
    "        shipping_price = shipping_tag.get_text() if shipping_tag else 'No shipping price'\n",
    "        \n",
    "        # Extract sold items\n",
    "        sold_tag = item.find('span', class_='NEGATIVE')\n",
    "        sold_items = sold_tag.get_text() if sold_tag else 'Not sold'\n",
    "        \n",
    "        data.append([title, price, shipping_price, sold_items])\n",
    "    \n",
    "    return data\n",
    "\n",
    "# Base URL\n",
    "base_url = 'https://www.ebay.com/e/row/smartwatchesrefurbishedrow?rt=nc'\n",
    "\n",
    "# Open a CSV file to write the data\n",
    "with open('smartwatches.csv', mode='w', newline='', encoding='utf-8') as file:\n",
    "    writer = csv.writer(file)\n",
    "    writer.writerow(['Title', 'Price', 'Shipping Price', 'Sold Items'])\n",
    "    \n",
    "    for page in range(1, 21):  # Adjust the range to cover all pages\n",
    "        url = f'{base_url}&_pgn={page}'\n",
    "        page = requests.get(url)\n",
    "        soup = BeautifulSoup(page.text, 'html.parser')\n",
    "        data = extract_info(soup)\n",
    "        \n",
    "        # Write data to CSV\n",
    "        for row in data:\n",
    "            writer.writerow(row)\n",
    "\n",
    "print('Data extraction and export completed.')\n"
   ]
  },
  {
   "cell_type": "code",
   "execution_count": null,
   "id": "a47cfe94",
   "metadata": {},
   "outputs": [],
   "source": []
  }
 ],
 "metadata": {
  "kernelspec": {
   "display_name": "Python 3 (ipykernel)",
   "language": "python",
   "name": "python3"
  },
  "language_info": {
   "codemirror_mode": {
    "name": "ipython",
    "version": 3
   },
   "file_extension": ".py",
   "mimetype": "text/x-python",
   "name": "python",
   "nbconvert_exporter": "python",
   "pygments_lexer": "ipython3",
   "version": "3.10.9"
  }
 },
 "nbformat": 4,
 "nbformat_minor": 5
}
